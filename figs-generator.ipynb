{
 "cells": [
  {
   "cell_type": "code",
   "execution_count": null,
   "metadata": {
    "ExecuteTime": {
     "end_time": "2023-07-26T14:00:03.723798Z",
     "start_time": "2023-07-26T14:00:03.587069Z"
    }
   },
   "outputs": [],
   "source": [
    "import pandas as pd\n",
    "import matplotlib.pyplot as plt\n",
    "import matplotlib.colors as colors\n",
    "from matplotlib.ticker import StrMethodFormatter\n",
    "import numpy as np\n",
    "import pareto\n",
    "import math"
   ]
  },
  {
   "cell_type": "code",
   "execution_count": null,
   "metadata": {
    "ExecuteTime": {
     "end_time": "2023-07-26T21:37:29.397131Z",
     "start_time": "2023-07-26T21:37:29.391592Z"
    }
   },
   "outputs": [],
   "source": [
    "dataset = 'ml1m' # 'ft', 'ml100k', 'ml1m'"
   ]
  },
  {
   "cell_type": "markdown",
   "metadata": {},
   "source": [
    "## Jenetics search"
   ]
  },
  {
   "cell_type": "code",
   "execution_count": null,
   "metadata": {
    "ExecuteTime": {
     "end_time": "2023-07-26T21:37:29.887195Z",
     "start_time": "2023-07-26T21:37:29.852264Z"
    }
   },
   "outputs": [],
   "source": [
    "jenetics_no_recklessness_df = pd.read_csv('./results/' + dataset +'-jenetic-search-recklessness-no.csv', sep=';')\n",
    "jenetics_no_recklessness_df"
   ]
  },
  {
   "cell_type": "code",
   "execution_count": null,
   "metadata": {
    "ExecuteTime": {
     "end_time": "2023-07-26T21:37:30.075966Z",
     "start_time": "2023-07-26T21:37:30.038025Z"
    }
   },
   "outputs": [],
   "source": [
    "jenetics_recklessness_df = pd.read_csv('./results/' + dataset +'-jenetic-search-recklessness-yes.csv', sep=';')\n",
    "jenetics_recklessness_df"
   ]
  },
  {
   "cell_type": "code",
   "execution_count": null,
   "metadata": {
    "ExecuteTime": {
     "end_time": "2023-07-26T21:37:32.781462Z",
     "start_time": "2023-07-26T21:37:30.243857Z"
    }
   },
   "outputs": [],
   "source": [
    "# process results with recklessness\n",
    "recklessness_last = jenetics_recklessness_df[(jenetics_recklessness_df['generation']==150) & (jenetics_recklessness_df['cumulativeCoverage']>0)]\n",
    "\n",
    "def is_pareto_front_r(row):\n",
    "    for i in range(len(recklessness_last)):\n",
    "        i_row = recklessness_last.iloc[i]\n",
    "        if i_row['cumulativeMAE'] > row['cumulativeMAE'] and i_row['cumulativeCoverage'] > row['cumulativeCoverage']:\n",
    "            return False\n",
    "    return True\n",
    "\n",
    "recklessness_last['is_pareto_front'] = recklessness_last.apply(is_pareto_front_r, axis = 1)\n",
    "\n",
    "# process results without recklessness\n",
    "no_recklessness_last = jenetics_no_recklessness_df[(jenetics_no_recklessness_df['generation']==150) & (jenetics_no_recklessness_df['cumulativeCoverage']>0)]\n",
    "\n",
    "def is_pareto_front_nr(row):\n",
    "    for i in range(len(no_recklessness_last)):\n",
    "        i_row = no_recklessness_last.iloc[i]\n",
    "        if i_row['cumulativeMAE'] > row['cumulativeMAE'] and i_row['cumulativeCoverage'] > row['cumulativeCoverage']:\n",
    "            return False\n",
    "    return True\n",
    "\n",
    "no_recklessness_last['is_pareto_front'] = no_recklessness_last.apply(is_pareto_front_nr, axis = 1)\n",
    "\n",
    "# plot results\n",
    "plt.figure(figsize=(6,6)) \n",
    "\n",
    "plt.gca().xaxis.set_major_formatter(StrMethodFormatter('{x:,.2f}'))\n",
    "plt.gca().yaxis.set_major_formatter(StrMethodFormatter('{x:,.2f}'))\n",
    "\n",
    "plt.scatter(recklessness_last['cumulativeCoverage'], recklessness_last['cumulativeMAE'], facecolors='none', edgecolors='blue', label=\"yes\")\n",
    "plt.scatter(no_recklessness_last['cumulativeCoverage'], no_recklessness_last['cumulativeMAE'], facecolors='none', edgecolors='orange', label=\"no\")\n",
    "\n",
    "recklessness_pareto = recklessness_last[recklessness_last['is_pareto_front']].sort_values('cumulativeCoverage')\n",
    "plt.plot(recklessness_pareto['cumulativeCoverage'], recklessness_pareto['cumulativeMAE'], color='blue')\n",
    "\n",
    "no_recklessness_pareto = no_recklessness_last[no_recklessness_last['is_pareto_front']].sort_values('cumulativeCoverage')\n",
    "plt.plot(no_recklessness_pareto['cumulativeCoverage'], no_recklessness_pareto['cumulativeMAE'], color='orange')\n",
    "\n",
    "plt.xlabel('coverage', fontsize=16)\n",
    "plt.ylabel('1-MAE', fontsize=16)\n",
    "\n",
    "plt.xticks(fontsize=14)\n",
    "plt.yticks(fontsize=14)\n",
    "\n",
    "plt.legend(title='recklessness', title_fontsize=12, fontsize=12)\n",
    "\n",
    "plt.savefig('figures/' + dataset + '-pareto.png', dpi=300, bbox_inches='tight')\n"
   ]
  },
  {
   "cell_type": "code",
   "execution_count": null,
   "metadata": {
    "ExecuteTime": {
     "end_time": "2023-07-26T21:37:34.133080Z",
     "start_time": "2023-07-26T21:37:32.783374Z"
    }
   },
   "outputs": [],
   "source": [
    "plt.figure(figsize=(7,6)) \n",
    "\n",
    "plt.gca().xaxis.set_major_formatter(StrMethodFormatter('{x:,.2f}'))\n",
    "plt.gca().yaxis.set_major_formatter(StrMethodFormatter('{x:,.2f}'))\n",
    "\n",
    "plt.scatter(jenetics_recklessness_df['cumulativeCoverage'], jenetics_recklessness_df['cumulativeMAE'], c=jenetics_recklessness_df['recklessness'], cmap='Blues')\n",
    "\n",
    "plt.xlabel('coverage', fontsize=16)\n",
    "plt.ylabel('1-MAE', fontsize=16)\n",
    "\n",
    "plt.xticks(fontsize=14)\n",
    "plt.yticks(fontsize=14)\n",
    "\n",
    "cbar = plt.colorbar()\n",
    "cbar.set_label('recklessness', fontsize=15)\n",
    "cbar.ax.tick_params(labelsize=14)\n",
    "\n",
    "plt.savefig('figures/' + dataset + '-recklessness-value.png', dpi=300, bbox_inches='tight')\n"
   ]
  },
  {
   "cell_type": "markdown",
   "metadata": {},
   "source": [
    "## Test split error"
   ]
  },
  {
   "cell_type": "code",
   "execution_count": null,
   "metadata": {
    "ExecuteTime": {
     "end_time": "2023-07-26T21:37:34.150639Z",
     "start_time": "2023-07-26T21:37:34.135096Z"
    }
   },
   "outputs": [],
   "source": [
    "df = pd.read_csv('results/' + dataset + '-test-split-error.csv', sep=';')\n",
    "df = df.dropna()\n",
    "df"
   ]
  },
  {
   "cell_type": "code",
   "execution_count": null,
   "metadata": {
    "ExecuteTime": {
     "end_time": "2023-07-26T21:37:40.099361Z",
     "start_time": "2023-07-26T21:37:34.152161Z"
    }
   },
   "outputs": [],
   "source": [
    "def is_pareto_front(row):\n",
    "    aux_df = df[(df['recklessness'] == row.recklessness) & (df['reliability'] == row.reliability)]\n",
    "\n",
    "    for i in range(len(aux_df)):\n",
    "        i_row = aux_df.iloc[i]\n",
    "        if i_row['1-mae'] > row['1-mae'] and i_row['coverage'] > row['coverage']:\n",
    "            return False\n",
    "    \n",
    "    return True\n",
    "\n",
    "df['is_pareto_front'] = df.apply(is_pareto_front, axis = 1)\n",
    "df"
   ]
  },
  {
   "cell_type": "code",
   "execution_count": null,
   "metadata": {
    "ExecuteTime": {
     "end_time": "2023-07-26T21:37:41.617517Z",
     "start_time": "2023-07-26T21:37:40.101162Z"
    }
   },
   "outputs": [],
   "source": [
    "import matplotlib.pyplot as plt\n",
    "\n",
    "rel_values = [0.30, 0.40, 0.50]\n",
    "\n",
    "fig, axs = plt.subplots(1, len(rel_values), figsize=(6*len(rel_values), 6))\n",
    "fig.tight_layout(h_pad=0, w_pad=4)\n",
    "\n",
    "for i, rel_value in enumerate(rel_values):\n",
    "    \n",
    "    axs[i].set_xlabel('coverage', fontsize=15)\n",
    "    axs[i].set_ylabel('1-MAE', fontsize=15)\n",
    "\n",
    "    axs[i].set_title(\"threshold=\" + str(rel_value), fontsize=20)\n",
    "\n",
    "    axs[i].tick_params(axis='both', which='major', labelsize=14)\n",
    "\n",
    "    rel_df = df[(df['reliability'] == rel_value) & (df['recklessness'] == 'yes')]   \n",
    "    axs[i].scatter(rel_df['coverage'], rel_df['1-mae'], facecolors='none', edgecolors='blue', label='yes')\n",
    "    \n",
    "    rel_pareto_front = rel_df[rel_df['is_pareto_front']].sort_values('coverage', ascending=False)\n",
    "    axs[i].plot(rel_pareto_front['coverage'], rel_pareto_front['1-mae'], color='blue')\n",
    "\n",
    "    not_rel_df = df[(df['reliability'] == rel_value) & (df['recklessness'] == 'no')]   \n",
    "    axs[i].scatter(not_rel_df['coverage'], not_rel_df['1-mae'], facecolors='none', edgecolors='orange', label='no')\n",
    "    \n",
    "    not_rel_pareto_front = not_rel_df[not_rel_df['is_pareto_front']].sort_values('coverage', ascending=False)\n",
    "    axs[i].plot(not_rel_pareto_front['coverage'], not_rel_pareto_front['1-mae'], color='orange')\n",
    "\n",
    "    axs[i].legend(title='recklessness', title_fontsize=12, fontsize=12)\n",
    "\n",
    "plt.savefig('figures/' + dataset + '-test-error.png', dpi=300, bbox_inches='tight')"
   ]
  },
  {
   "cell_type": "code",
   "execution_count": null,
   "metadata": {
    "ExecuteTime": {
     "end_time": "2023-07-26T21:37:42.138630Z",
     "start_time": "2023-07-26T21:37:41.619298Z"
    }
   },
   "outputs": [],
   "source": [
    "import seaborn as sns\n",
    "from pygmo import *\n",
    "\n",
    "reliabilities = [0.20, 0.25, 0.30, 0.35, 0.40, 0.45, 0.50, 0.55, 0.60, 0.65, 0.70]\n",
    "\n",
    "hv_df = pd.DataFrame(columns=['reliability', 'recklessness', 'hv'])\n",
    "\n",
    "for i, reliability in enumerate(reliabilities):\n",
    "    for k, recklessness in enumerate(['yes', 'no']):\n",
    "\n",
    "        aux_df = df[(df['reliability'] == reliability) & (df['recklessness'] == recklessness) & (df['is_pareto_front'])]\n",
    "\n",
    "        hv = hypervolume(aux_df[['coverage', '1-mae']])\n",
    "\n",
    "        hv_df = hv_df.append({\n",
    "            'reliability': reliability,\n",
    "            'recklessness': recklessness,\n",
    "            'hv': 1.0 - hv.compute([1,1])\n",
    "        }, ignore_index = True)\n",
    "        \n",
    "        \n",
    "plt.figure(figsize=(7,6)) \n",
    "\n",
    "plt.gca().xaxis.set_major_formatter(StrMethodFormatter('{x:,.2f}'))\n",
    "plt.gca().yaxis.set_major_formatter(StrMethodFormatter('{x:,.2f}'))\n",
    "\n",
    "plt.plot(hv_df[hv_df['recklessness']=='yes']['reliability'], hv_df[hv_df['recklessness']=='yes']['hv'], label='yes')\n",
    "plt.plot(hv_df[hv_df['recklessness']=='no']['reliability'], hv_df[hv_df['recklessness']=='no']['hv'], label='no')\n",
    "\n",
    "plt.xlabel('threshold', fontsize=16)\n",
    "plt.ylabel('HV', fontsize=16)\n",
    "\n",
    "plt.xticks(fontsize=14)\n",
    "plt.yticks(fontsize=14)\n",
    "\n",
    "plt.legend(title='recklessness', title_fontsize=12, fontsize=12)\n",
    "\n",
    "plt.savefig('figures/' + dataset + '-hv.png', dpi=300, bbox_inches='tight')"
   ]
  }
 ],
 "metadata": {
  "kernelspec": {
   "display_name": "Python 3",
   "language": "python",
   "name": "python3"
  },
  "language_info": {
   "codemirror_mode": {
    "name": "ipython",
    "version": 3
   },
   "file_extension": ".py",
   "mimetype": "text/x-python",
   "name": "python",
   "nbconvert_exporter": "python",
   "pygments_lexer": "ipython3",
   "version": "3.8.5"
  },
  "toc": {
   "base_numbering": 1,
   "nav_menu": {},
   "number_sections": false,
   "sideBar": true,
   "skip_h1_title": false,
   "title_cell": "Table of Contents",
   "title_sidebar": "Contents",
   "toc_cell": false,
   "toc_position": {},
   "toc_section_display": true,
   "toc_window_display": false
  }
 },
 "nbformat": 4,
 "nbformat_minor": 4
}
